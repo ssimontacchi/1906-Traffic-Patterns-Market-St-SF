{
 "cells": [
  {
   "cell_type": "code",
   "execution_count": 37,
   "metadata": {},
   "outputs": [],
   "source": [
    "from os import listdir\n",
    "from os.path import isfile, join\n",
    "import matplotlib.pyplot as plt\n",
    "import numpy as np"
   ]
  },
  {
   "cell_type": "code",
   "execution_count": 6,
   "metadata": {},
   "outputs": [],
   "source": [
    "onlyfiles = [f for f in listdir('./frames_pascal_voc_xml/') if isfile(join('./frames_pascal_voc_xml/', f))]"
   ]
  },
  {
   "cell_type": "code",
   "execution_count": 8,
   "metadata": {},
   "outputs": [
    {
     "data": {
      "text/plain": [
       "'frame6181.xml'"
      ]
     },
     "execution_count": 8,
     "metadata": {},
     "output_type": "execute_result"
    }
   ],
   "source": [
    "onlyfiles[0]"
   ]
  },
  {
   "cell_type": "code",
   "execution_count": 23,
   "metadata": {},
   "outputs": [],
   "source": [
    "onlyfiles = [file for file in onlyfiles if file[0]!=\".\" ]"
   ]
  },
  {
   "cell_type": "code",
   "execution_count": 29,
   "metadata": {},
   "outputs": [],
   "source": [
    "def file_len_to_list(fname, lst):\n",
    "    with open('./frames_pascal_voc_xml/'+fname) as f:\n",
    "        for i, l in enumerate(f):\n",
    "            pass\n",
    "    lst.append(i + 1)"
   ]
  },
  {
   "cell_type": "code",
   "execution_count": 45,
   "metadata": {},
   "outputs": [],
   "source": [
    "def file_len(fname):\n",
    "    with open('./frames_pascal_voc_xml/'+fname) as f:\n",
    "        for i, l in enumerate(f):\n",
    "            pass\n",
    "    return (i + 1)"
   ]
  },
  {
   "cell_type": "code",
   "execution_count": 28,
   "metadata": {},
   "outputs": [],
   "source": []
  },
  {
   "cell_type": "code",
   "execution_count": 30,
   "metadata": {},
   "outputs": [],
   "source": [
    "doc_lengths = []\n",
    "for xml in onlyfiles:\n",
    "    file_len_to_list(xml, doc_lengths)"
   ]
  },
  {
   "cell_type": "code",
   "execution_count": 42,
   "metadata": {},
   "outputs": [
    {
     "data": {
      "image/png": "[encoded data removed]",
      "text/plain": [
       "<Figure size 432x288 with 1 Axes>"
      ]
     },
     "metadata": {
      "needs_background": "light"
     },
     "output_type": "display_data"
    }
   ],
   "source": [
    "plt.hist(doc_lengths, bins = len(set(doc_lengths)));"
   ]
  },
  {
   "cell_type": "code",
   "execution_count": 44,
   "metadata": {},
   "outputs": [
    {
     "data": {
      "text/plain": [
       "11"
      ]
     },
     "execution_count": 44,
     "metadata": {},
     "output_type": "execute_result"
    }
   ],
   "source": [
    "sorted(doc_lengths)[0]"
   ]
  },
  {
   "cell_type": "code",
   "execution_count": 48,
   "metadata": {},
   "outputs": [],
   "source": [
    "annotated_files = [file for file in onlyfiles if file_len(file)>11]"
   ]
  },
  {
   "cell_type": "code",
   "execution_count": 49,
   "metadata": {},
   "outputs": [
    {
     "data": {
      "text/plain": [
       "111"
      ]
     },
     "execution_count": 49,
     "metadata": {},
     "output_type": "execute_result"
    }
   ],
   "source": [
    "len(annotated_files)"
   ]
  },
  {
   "cell_type": "code",
   "execution_count": 51,
   "metadata": {},
   "outputs": [
    {
     "data": {
      "text/plain": [
       "350"
      ]
     },
     "execution_count": 51,
     "metadata": {},
     "output_type": "execute_result"
    }
   ],
   "source": [
    "len(onlyfiles)"
   ]
  },
  {
   "cell_type": "code",
   "execution_count": 52,
   "metadata": {},
   "outputs": [],
   "source": [
    "for file in onlyfiles:\n",
    "    if file not in annotated_files:\n",
    "        os.remove(\"frames_pascal_voc_xml/annotated//\"+file)"
   ]
  },
  {
   "cell_type": "code",
   "execution_count": 54,
   "metadata": {},
   "outputs": [
    {
     "data": {
      "text/plain": [
       "112"
      ]
     },
     "execution_count": 54,
     "metadata": {},
     "output_type": "execute_result"
    }
   ],
   "source": [
    "len(listdir('./frames_pascal_voc_xml/annotated/'))"
   ]
  },
  {
   "cell_type": "code",
   "execution_count": 59,
   "metadata": {},
   "outputs": [
    {
     "data": {
      "text/plain": [
       "'frame18350.jpg'"
      ]
     },
     "execution_count": 59,
     "metadata": {},
     "output_type": "execute_result"
    }
   ],
   "source": [
    "s = 'frame18350.xml'\n",
    "s[:-4]+\".jpg\""
   ]
  },
  {
   "cell_type": "code",
   "execution_count": 60,
   "metadata": {},
   "outputs": [],
   "source": [
    "annot = listdir('./frames_pascal_voc_xml/annotated/')\n",
    "annot_JPEGs = [file[:-4]+\".jpg\" for file in annot]"
   ]
  },
  {
   "cell_type": "code",
   "execution_count": 62,
   "metadata": {},
   "outputs": [],
   "source": [
    "from shutil import copyfile\n",
    "\n",
    "frames = [f for f in listdir('./frames/') if isfile(join('./frames/', f))]\n",
    "frames = [file for file in frames if file[0]!=\".\" ]\n",
    "for frame in frames:\n",
    "    if frame in annot_JPEGs:\n",
    "        copyfile('./frames/'+frame, './frames/JPEGImages/'+frame)"
   ]
  },
  {
   "cell_type": "code",
   "execution_count": 61,
   "metadata": {},
   "outputs": [
    {
     "data": {
      "text/plain": [
       "['frame18350.jpg',\n",
       " 'frame1573.jpg',\n",
       " 'frame14422.jpg',\n",
       " 'frame16235.jpg',\n",
       " 'frame11759.jpg',\n",
       " 'frame16585.jpg',\n",
       " 'frame12898.jpg',\n",
       " 'frame1160.jpg',\n",
       " 'frame1202.jpg',\n",
       " 'frame18780.jpg',\n",
       " 'frame10486.jpg',\n",
       " 'frame1799.jpg',\n",
       " 'frame13398.jpg',\n",
       " 'frame10685.jpg',\n",
       " 'frame15851.jpg',\n",
       " 'frame11148.jpg',\n",
       " 'frame17505.jpg',\n",
       " 'frame12121.jpg',\n",
       " 'frame13203.jpg',\n",
       " 'frame17475.jpg',\n",
       " 'frame18035.jpg',\n",
       " 'frame12242.jpg',\n",
       " 'frame1010.jpg',\n",
       " 'frame11373.jpg',\n",
       " 'frame14586.jpg',\n",
       " 'frame18631.jpg',\n",
       " 'frame18369.jpg',\n",
       " 'frame12730.jpg',\n",
       " 'frame154.jpg',\n",
       " 'frame12679.jpg',\n",
       " 'frame17799.jpg',\n",
       " 'frame12839.jpg',\n",
       " 'frame12018.jpg',\n",
       " 'frame13663.jpg',\n",
       " 'frame14332.jpg',\n",
       " 'frame17029.jpg',\n",
       " 'frame13930.jpg',\n",
       " 'frame10803.jpg',\n",
       " 'frame15748.jpg',\n",
       " 'frame14867.jpg',\n",
       " 'frame1077.jpg',\n",
       " 'frame18537.jpg',\n",
       " 'frame15403.jpg',\n",
       " 'frame14090.jpg',\n",
       " 'frame135.jpg',\n",
       " 'frame10152.jpg',\n",
       " 'frame13275.jpg',\n",
       " 'frame14042.jpg',\n",
       " 'frame1113.jpg',\n",
       " 'frame16131.jpg',\n",
       " 'frame14242.jpg',\n",
       " 'frame12593.jpg',\n",
       " 'frame17602.jpg',\n",
       " 'frame10019.jpg',\n",
       " 'frame15583.jpg',\n",
       " 'frame1733.jpg',\n",
       " 'frame17343.jpg',\n",
       " 'frame18071.jpg',\n",
       " 'frame14475.jpg',\n",
       " 'frame18298.jpg',\n",
       " 'frame13911.jpg',\n",
       " 'frame1136.jpg',\n",
       " 'frame10956.jpg',\n",
       " 'frame1240.jpg',\n",
       " 'frame17156.jpg',\n",
       " 'frame11094.jpg',\n",
       " 'frame13640.jpg',\n",
       " 'frame1043.jpg',\n",
       " 'frame11683.jpg',\n",
       " 'frame114.jpg',\n",
       " 'frame12765.jpg',\n",
       " 'frame13321.jpg',\n",
       " 'frame13888.jpg',\n",
       " 'frame11090.jpg',\n",
       " 'frame1046.jpg',\n",
       " 'frame17556.jpg',\n",
       " 'frame14129.jpg',\n",
       " 'frame15034.jpg',\n",
       " 'frame13486.jpg',\n",
       " 'frame11180.jpg',\n",
       " 'frame15325.jpg',\n",
       " '.ipynb_checkpo.jpg',\n",
       " 'frame13423.jpg',\n",
       " 'frame11368.jpg',\n",
       " 'frame14748.jpg',\n",
       " 'frame11381.jpg',\n",
       " 'frame15130.jpg',\n",
       " 'frame1753.jpg',\n",
       " 'frame17337.jpg',\n",
       " 'frame16767.jpg',\n",
       " 'frame17493.jpg',\n",
       " 'frame1587.jpg',\n",
       " 'frame1550.jpg',\n",
       " 'frame10698.jpg',\n",
       " 'frame1622.jpg',\n",
       " 'frame18439.jpg',\n",
       " 'frame15653.jpg',\n",
       " 'frame16776.jpg',\n",
       " 'frame18766.jpg',\n",
       " 'frame14821.jpg',\n",
       " 'frame11232.jpg',\n",
       " 'frame12075.jpg',\n",
       " 'frame15478.jpg',\n",
       " 'frame12471.jpg',\n",
       " 'frame11146.jpg',\n",
       " 'frame13037.jpg',\n",
       " 'frame10310.jpg',\n",
       " 'frame12275.jpg',\n",
       " 'frame10304.jpg',\n",
       " 'frame18003.jpg',\n",
       " 'frame15719.jpg',\n",
       " 'frame18229.jpg']"
      ]
     },
     "execution_count": 61,
     "metadata": {},
     "output_type": "execute_result"
    }
   ],
   "source": [
    "annot_JPEGs"
   ]
  },
  {
   "cell_type": "code",
   "execution_count": null,
   "metadata": {},
   "outputs": [],
   "source": []
  },
  {
   "cell_type": "code",
   "execution_count": null,
   "metadata": {},
   "outputs": [],
   "source": []
  },
  {
   "cell_type": "code",
   "execution_count": null,
   "metadata": {},
   "outputs": [],
   "source": []
  },
  {
   "cell_type": "code",
   "execution_count": null,
   "metadata": {},
   "outputs": [],
   "source": []
  }
 ],
 "metadata": {
  "kernelspec": {
   "display_name": "Python [conda env:IntroToTensorFlow]",
   "language": "python",
   "name": "conda-env-IntroToTensorFlow-py"
  },
  "language_info": {
   "codemirror_mode": {
    "name": "ipython",
    "version": 3
   },
   "file_extension": ".py",
   "mimetype": "text/x-python",
   "name": "python",
   "nbconvert_exporter": "python",
   "pygments_lexer": "ipython3",
   "version": "3.6.6"
  }
 },
 "nbformat": 4,
 "nbformat_minor": 2
}
